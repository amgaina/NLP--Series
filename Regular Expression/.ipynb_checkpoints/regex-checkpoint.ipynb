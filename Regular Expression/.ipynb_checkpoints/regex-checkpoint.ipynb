{
 "cells": [
  {
   "cell_type": "code",
   "execution_count": 1,
   "id": "679d8113-da94-426b-af94-ebfc5526b403",
   "metadata": {},
   "outputs": [],
   "source": [
    "import re\n"
   ]
  },
  {
   "cell_type": "code",
   "execution_count": 29,
   "id": "b24734ee-1b29-46e4-b42b-95de0022db2a",
   "metadata": {},
   "outputs": [],
   "source": [
    "chat1 = \"contact our verification department at (202) 555-0147, available Monday through Friday from 8:00 AM to 7:00 PM ET. Be prepared to provide your account number and answer a few security questions.\"\n",
    "chat2 = \"For any questions, feel free to call us directly at 2025550189\"\n",
    "chat3 = \"For any urgent issues outside of regular hours, our 24/7 automated system at the same number, +1 (202) 555-0147, is available to guide you.\"\n"
   ]
  },
  {
   "cell_type": "code",
   "execution_count": 49,
   "id": "995acf61-39c1-46e7-8b39-f95ca25e7ba1",
   "metadata": {},
   "outputs": [],
   "source": [
    "## Develop the regex pattern to find the phone number from the chat1, chat2, and chat3"
   ]
  },
  {
   "cell_type": "code",
   "execution_count": 66,
   "id": "1558b5ce-bcd1-4c51-88ab-a689dc78cc36",
   "metadata": {},
   "outputs": [
    {
     "name": "stdout",
     "output_type": "stream",
     "text": [
      "['+1 (202) 555-0147']\n"
     ]
    }
   ],
   "source": [
    "pattern = r\"\\(\\d{3}\\) \\d{3}-\\d{4}|\\d{10}|\\+\\d \\(\\d{3}\\) \\d{3}-\\d{4}\"\n",
    "## Change the chat to get the different combination\n",
    "match = re.findall(pattern, chat3)\n",
    "print(match)"
   ]
  },
  {
   "cell_type": "code",
   "execution_count": 60,
   "id": "c93b3e9a-a055-419b-8f4b-7c167e92d912",
   "metadata": {},
   "outputs": [],
   "source": [
    "chat4 = \"Please send your project proposal to jane.doe@example.com by next Monday to ensure it is reviewed on time.\"\n",
    "chat5 = \"For any issues accessing the system, contact support123@company.co or call our hotline at (555) 789-6543.\"\n",
    "chat6 = \"You can also reach out to our HR department at hr_dept@business.org if you have questions about employee benefits.\""
   ]
  },
  {
   "cell_type": "code",
   "execution_count": 62,
   "id": "51bd7cbb-e439-4ed2-b149-56dac6916477",
   "metadata": {},
   "outputs": [],
   "source": [
    "## Develop the regex pattern to find the email address from the chat4, chat5, and chat6"
   ]
  },
  {
   "cell_type": "code",
   "execution_count": 78,
   "id": "8be4d5c8-4617-4a7a-b076-e684a6bff110",
   "metadata": {},
   "outputs": [
    {
     "name": "stdout",
     "output_type": "stream",
     "text": [
      "['t@business.org']\n"
     ]
    }
   ],
   "source": [
    "pattern = r\"[a-z0-9A-Z_.+-]@[a-z0-9A-Z_.+-]+\\.[a-zA-Z]{2,}\"\n",
    "match = re.findall(pattern, chat6)\n",
    "print(match)"
   ]
  },
  {
   "cell_type": "code",
   "execution_count": 80,
   "id": "eb55104c-fa3e-4808-a354-c8d5619d2c9b",
   "metadata": {},
   "outputs": [],
   "source": [
    "chat7 = \"I’m reaching out because my order ID is #98765, and I’m having an issue with it. Can you assist me?\"\n",
    "chat8 = \"Could you please look into my order? The ID is ORD123456 and there seems to be a problem with the delivery.\"\n",
    "chat9 = \"I’d like to report an issue with my recent order, which has the ID 123789. What steps can I take to resolve this?\"\n"
   ]
  },
  {
   "cell_type": "code",
   "execution_count": 88,
   "id": "bcdba784-7c19-4552-9f0e-62185c8f847e",
   "metadata": {},
   "outputs": [],
   "source": [
    "## Develop the regex pattern to find the order number from the chat7, chat8, and chat9"
   ]
  },
  {
   "cell_type": "code",
   "execution_count": 100,
   "id": "f010f087-3ef8-4645-a370-c762d5300304",
   "metadata": {},
   "outputs": [
    {
     "name": "stdout",
     "output_type": "stream",
     "text": [
      "['123']\n"
     ]
    }
   ],
   "source": [
    "pattern = r\"(?:order|ord|id)[^\\d]*(\\d*)\"\n",
    "matches = re.findall(pattern, chat9)\n",
    "print(matches)"
   ]
  },
  {
   "cell_type": "markdown",
   "id": "1331e80c-5f23-4813-9332-122601da2247",
   "metadata": {},
   "source": [
    "Extract all twitter handles from following text. Twitter handle is the text that appears after https://twitter.com/ and is a single word. Also it contains only alpha numeric characters i.e. A-Z a-z , o to 9 and underscore _"
   ]
  },
  {
   "cell_type": "code",
   "execution_count": 107,
   "id": "3b44365e-50c1-43f8-a034-0037b85547c9",
   "metadata": {},
   "outputs": [
    {
     "data": {
      "text/plain": [
       "['elonmusk', 'teslarati', 'dummy_tesla', 'dummy_2_tesla']"
      ]
     },
     "execution_count": 107,
     "metadata": {},
     "output_type": "execute_result"
    }
   ],
   "source": [
    "text = '''\n",
    "Follow our leader Elon musk on twitter here: https://twitter.com/elonmusk, more information \n",
    "on Tesla's products can be found at https://www.tesla.com/. Also here are leading influencers \n",
    "for tesla related news,\n",
    "https://twitter.com/teslarati\n",
    "https://twitter.com/dummy_tesla\n",
    "https://twitter.com/dummy_2_tesla\n",
    "'''\n",
    "pattern = r'https://twitter.com/([A-Za-z0-9_]*)'\n",
    "\n",
    "re.findall(pattern, text)"
   ]
  },
  {
   "cell_type": "markdown",
   "id": "179073f8-978d-453d-a9c5-694968600bdb",
   "metadata": {},
   "source": [
    "Extract Concentration Risk Types. It will be a text that appears after \"Concentration Risk:\", In below example, your regex should extract these two strings\n",
    "\n",
    "(1) Credit Risk\n",
    "\n",
    "(2) Supply Rish"
   ]
  },
  {
   "cell_type": "code",
   "execution_count": 115,
   "id": "509fc39e-0e41-4bcd-963d-7254449e240e",
   "metadata": {},
   "outputs": [
    {
     "data": {
      "text/plain": [
       "['Credit Risk', 'Supply Risk']"
      ]
     },
     "execution_count": 115,
     "metadata": {},
     "output_type": "execute_result"
    }
   ],
   "source": [
    "text = '''\n",
    "Concentration of Risk: Credit Risk\n",
    "Financial instruments that potentially subject us to a concentration of credit risk consist of cash, cash equivalents, marketable securities,\n",
    "restricted cash, accounts receivable, convertible note hedges, and interest rate swaps. Our cash balances are primarily invested in money market funds\n",
    "or on deposit at high credit quality financial institutions in the U.S. These deposits are typically in excess of insured limits. As of September 30, 2021\n",
    "and December 31, 2020, no entity represented 10% or more of our total accounts receivable balance. The risk of concentration for our convertible note\n",
    "hedges and interest rate swaps is mitigated by transacting with several highly-rated multinational banks.\n",
    "Concentration of Risk: Supply Risk\n",
    "We are dependent on our suppliers, including single source suppliers, and the inability of these suppliers to deliver necessary components of our\n",
    "products in a timely manner at prices, quality levels and volumes acceptable to us, or our inability to efficiently manage these components from these\n",
    "suppliers, could have a material adverse effect on our business, prospects, financial condition and operating results.\n",
    "'''\n",
    "pattern = r'Concentration of Risk: (.*)\\n'\n",
    "\n",
    "re.findall(pattern, text)"
   ]
  },
  {
   "cell_type": "markdown",
   "id": "52a9541a-10bd-4ff5-86ed-a10bed109e2a",
   "metadata": {},
   "source": [
    "Companies in europe reports their financial numbers of semi annual basis and you can have a document like this. To exatract quarterly and semin annual period you can use a regex as shown below"
   ]
  },
  {
   "cell_type": "code",
   "execution_count": 134,
   "id": "5d66427e-e29f-4b5b-a493-f2e0e93a42a7",
   "metadata": {},
   "outputs": [
    {
     "data": {
      "text/plain": [
       "['2021 Q1', '2021 S1']"
      ]
     },
     "execution_count": 134,
     "metadata": {},
     "output_type": "execute_result"
    }
   ],
   "source": [
    "text = '''\n",
    "Tesla's gross cost of operating lease vehicles in FY2021 Q1 was $4.85 billion.\n",
    "BMW's gross cost of operating vehicles in FY2021 S1 was $8 billion.\n",
    "'''\n",
    "\n",
    "pattern = r'FY(\\d{4} (?:Q[1-4]|S[1-2]))'\n",
    "matches = re.findall(pattern, text)\n",
    "matches"
   ]
  },
  {
   "cell_type": "code",
   "execution_count": null,
   "id": "413eb3b4-f6e1-41c0-9a39-b8b48ef520d6",
   "metadata": {},
   "outputs": [],
   "source": []
  }
 ],
 "metadata": {
  "kernelspec": {
   "display_name": "Python 3 (ipykernel)",
   "language": "python",
   "name": "python3"
  },
  "language_info": {
   "codemirror_mode": {
    "name": "ipython",
    "version": 3
   },
   "file_extension": ".py",
   "mimetype": "text/x-python",
   "name": "python",
   "nbconvert_exporter": "python",
   "pygments_lexer": "ipython3",
   "version": "3.12.4"
  }
 },
 "nbformat": 4,
 "nbformat_minor": 5
}
